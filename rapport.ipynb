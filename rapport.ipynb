{
  "nbformat": 4,
  "nbformat_minor": 0,
  "metadata": {
    "kernelspec": {
      "display_name": "Python 3",
      "language": "python",
      "name": "python3"
    },
    "language_info": {
      "codemirror_mode": {
        "name": "ipython",
        "version": 3
      },
      "file_extension": ".py",
      "mimetype": "text/x-python",
      "name": "python",
      "nbconvert_exporter": "python",
      "pygments_lexer": "ipython3",
      "version": "3.6.9-final"
    },
    "colab": {
      "name": "rapport.ipynb",
      "provenance": []
    }
  },
  "cells": [
    {
      "cell_type": "markdown",
      "metadata": {
        "id": "G7cd6fuZFpVz"
      },
      "source": [
        "# TP-1 DLBasics\n",
        "\n",
        "## Digit classification using the MNIST dataset\n",
        "\n",
        "In this notebook you will train your first neural network. Feel free to look back at the Lecture-1 slides to complete the cells below. "
      ]
    },
    {
      "cell_type": "markdown",
      "metadata": {
        "id": "HzBu7IbnFpV0"
      },
      "source": [
        "#### Install dependencies freeze by poetry \n"
      ]
    },
    {
      "cell_type": "markdown",
      "metadata": {
        "id": "_w8u29jQFpV3"
      },
      "source": [
        "#### Import the different module we will need in this notebook \n",
        "\n",
        "All the dependencies are installed. Below we import them and will be using them in all our notebooks.\n",
        "\n",
        "Please feel free to look arround and look at their API. \n",
        "\n",
        "The student should be limited to these imports to complete this work.\n"
      ]
    },
    {
      "cell_type": "code",
      "metadata": {
        "id": "L4jQuVeoFpV4"
      },
      "source": [
        "# We import some python standard librairy utility function \n",
        "# see the [python doc](https://docs.python.org/3.6/library/functools.html?highlight=func#module-functools) for more info \n",
        "from functools import reduce \n",
        "import random \n",
        "\n",
        "# To create some plot and figures: matplolib [matplotlib doc](https://matplotlib.org/)\n",
        "# To do compute on matrix and vectors: [numpy doc](https://numpy.org/)\n",
        "# To do some classical Machine Learning: [sklearn doc](https://scikit-learn.org/stable/index.html)\n",
        "import matplotlib.pyplot as plt\n",
        "import numpy as np\n",
        "from sklearn.datasets import fetch_openml\n",
        "from sklearn.model_selection import train_test_split"
      ],
      "execution_count": 948,
      "outputs": []
    },
    {
      "cell_type": "code",
      "metadata": {
        "id": "zIq8w_n0FpV6"
      },
      "source": [
        "# In order to have some reproducable results and easier debugging \n",
        "# we fix the seed of random.\n",
        "random.seed(1342)\n",
        "np.random.seed(1342)"
      ],
      "execution_count": 949,
      "outputs": []
    },
    {
      "cell_type": "markdown",
      "metadata": {
        "id": "WaBZWUQ3FpV8"
      },
      "source": [
        "## Data preparation (3 pts)\n",
        "\n",
        "As seen in the lecture one of the earlier use case for deep learning was digit recognition. \n",
        "\n",
        "The dataset we will use today is the MNISTdataset http://yann.lecun.com/exdb/mnist/. \n",
        "\n",
        "One image will be represented a vector (a 28x28 image will be represented as vector with 784 entries).\n",
        "\n",
        "Thus, we will end up with a n_examples x 784 matrix to represent the images in the dataset.\n"
      ]
    },
    {
      "cell_type": "code",
      "metadata": {
        "id": "jM7zH8YDFpV9"
      },
      "source": [
        "mnist_data, mnist_target = fetch_openml('mnist_784', version=1, return_X_y=True)"
      ],
      "execution_count": 950,
      "outputs": []
    },
    {
      "cell_type": "code",
      "metadata": {
        "id": "zGXRVEPfFpV_"
      },
      "source": [
        "# Let's warmup and answer this first question\n",
        "# Replace the None with you answer.\n",
        "\n",
        "# How many image are in this dataset ? (70000) --> each image is a row of 784 columns that we have to reshape in 28x28\n",
        "def data_length(dataset: np.array, target: np.array):\n",
        "    \"\"\"Function to compute the length of the dataset and the length of the target labels.\"\"\"\n",
        "    dataset_length = dataset.shape[0]\n",
        "    target_length = target.shape[0]\n",
        "    return dataset_length, target_length"
      ],
      "execution_count": 951,
      "outputs": []
    },
    {
      "cell_type": "code",
      "metadata": {
        "id": "3pQJQg1xfH8Y",
        "outputId": "85ec1781-011e-49e2-e72d-7b36d885034c",
        "colab": {
          "base_uri": "https://localhost:8080/"
        }
      },
      "source": [
        "print(data_length(mnist_data,mnist_target))"
      ],
      "execution_count": 952,
      "outputs": [
        {
          "output_type": "stream",
          "text": [
            "(70000, 70000)\n"
          ],
          "name": "stdout"
        }
      ]
    },
    {
      "cell_type": "code",
      "metadata": {
        "id": "ibhDPaS4FpWB",
        "outputId": "7c42c427-634a-4cc4-f362-0b100690c13b",
        "colab": {
          "base_uri": "https://localhost:8080/",
          "height": 281
        }
      },
      "source": [
        "# Let's look at on image from this dataset \n",
        "def plot_one_image(dataset: np.array, target: np.array, image_index: int):\n",
        "    \"\"\"Function to plot the image at the given index.\"\"\"\n",
        "    image = dataset[image_index].reshape(28,28)\n",
        "    target = target[image_index]\n",
        "    plt.imshow(image, cmap='gray')\n",
        "    plt.title(f\"This is a {target}\")\n",
        "\n",
        "\n",
        "plot_one_image(mnist_data, mnist_target ,1997)"
      ],
      "execution_count": 953,
      "outputs": [
        {
          "output_type": "display_data",
          "data": {
            "image/png": "[encoded data removed]",
            "text/plain": [
              "<Figure size 432x288 with 1 Axes>"
            ]
          },
          "metadata": {
            "tags": [],
            "needs_background": "light"
          }
        }
      ]
    },
    {
      "cell_type": "code",
      "metadata": {
        "id": "xpxtXXWEFpWE",
        "outputId": "daefa5a9-1174-4909-f110-56de9fd58fab",
        "colab": {
          "base_uri": "https://localhost:8080/"
        }
      },
      "source": [
        "\n",
        "# In a similar fashion to classical machine learning, we will create a test split to known if the neural network is learning well.\n",
        "\n",
        "X_train, X_test, y_train, y_test = train_test_split(mnist_data, mnist_target, test_size=0.33, random_state=1342)\n",
        "\n",
        "# You the 2 function below to check if they are working properly on this divided dataset.\n",
        "\n",
        "X_train_length, y_train_length = data_length(X_train, y_train)\n",
        "X_test_length, y_test_length = data_length(X_test, y_test)  \n",
        "\n",
        "assert X_train_length == y_train_length and X_train_length == 46900\n",
        "assert X_test_length == y_test_length and X_test_length == 23100\n",
        "\n",
        "print(X_train.shape)\n",
        "print(y_train.shape)\n"
      ],
      "execution_count": 954,
      "outputs": [
        {
          "output_type": "stream",
          "text": [
            "(46900, 784)\n",
            "(46900,)\n"
          ],
          "name": "stdout"
        }
      ]
    },
    {
      "cell_type": "code",
      "metadata": {
        "id": "0VukR1lAFpWG",
        "outputId": "e53505b4-f45c-4bfb-b87b-e41acca9792a",
        "colab": {
          "base_uri": "https://localhost:8080/",
          "height": 281
        }
      },
      "source": [
        "plot_one_image(X_train, y_train ,55)"
      ],
      "execution_count": 955,
      "outputs": [
        {
          "output_type": "display_data",
          "data": {
            "image/png": "[encoded data removed]",
            "text/plain": [
              "<Figure size 432x288 with 1 Axes>"
            ]
          },
          "metadata": {
            "tags": [],
            "needs_background": "light"
          }
        }
      ]
    },
    {
      "cell_type": "code",
      "metadata": {
        "id": "sDYJLcIwFpWI",
        "outputId": "47dc9f12-2e1c-44c9-cdb5-ea4f89d9146b",
        "colab": {
          "base_uri": "https://localhost:8080/",
          "height": 281
        }
      },
      "source": [
        "plot_one_image(X_test, y_test , 999)"
      ],
      "execution_count": 956,
      "outputs": [
        {
          "output_type": "display_data",
          "data": {
            "image/png": "[encoded data removed]",
            "text/plain": [
              "<Figure size 432x288 with 1 Axes>"
            ]
          },
          "metadata": {
            "tags": [],
            "needs_background": "light"
          }
        }
      ]
    },
    {
      "cell_type": "code",
      "metadata": {
        "id": "g5zBwzMUFpWK"
      },
      "source": [
        "# It's important to normalize the data before feeding it into the neural network\n",
        "def normalize_data(dataset: np.array) -> np.array:\n",
        "    return dataset/255"
      ],
      "execution_count": 957,
      "outputs": []
    },
    {
      "cell_type": "code",
      "metadata": {
        "id": "VbVvOGnbgZej",
        "outputId": "272ab18b-2f80-411d-dd45-b0eaac56a367",
        "colab": {
          "base_uri": "https://localhost:8080/",
          "height": 281
        }
      },
      "source": [
        "plot_one_image(normalize_data(mnist_data), mnist_target ,0)\n"
      ],
      "execution_count": 958,
      "outputs": [
        {
          "output_type": "display_data",
          "data": {
            "image/png": "[encoded data removed]",
            "text/plain": [
              "<Figure size 432x288 with 1 Axes>"
            ]
          },
          "metadata": {
            "tags": [],
            "needs_background": "light"
          }
        }
      ]
    },
    {
      "cell_type": "markdown",
      "metadata": {
        "id": "tUUAUveIFpWN"
      },
      "source": [
        "It's also important to find a good representation of the target.\n",
        "\n",
        "In this notebook it will be one-hot vector. \n",
        "\n",
        "Complete the below function to turn the target vector into a one-hot matrix.\n",
        "\n",
        "For example, a `[0,1,9]` vector will become the following matrix:\n",
        "\n",
        "`[[1,0,0,0,0,0,0,0,0,0],\n",
        "  [0,1,0,0,0,0,0,0,0,0],\n",
        "  [0,0,0,0,0,0,0,0,0,1]]`\n",
        "\n"
      ]
    },
    {
      "cell_type": "code",
      "metadata": {
        "id": "hsBliUXqFpWN"
      },
      "source": [
        "def target_to_one_hot(target: np.array) -> np.array:\n",
        "    one_hot_matrix = np.zeros((target.shape[0],10))\n",
        "    for i in range(0,target.shape[0]):\n",
        "        label = int(target[i])\n",
        "        one_hot_matrix[i,label] = 1\n",
        "    return one_hot_matrix"
      ],
      "execution_count": 959,
      "outputs": []
    },
    {
      "cell_type": "markdown",
      "metadata": {
        "id": "8Zh2-1FYFpWQ"
      },
      "source": [
        "## Useful functions (3 pts)\n",
        "\n",
        "Implement the sigmoid function, its derivative and the softmax function:"
      ]
    },
    {
      "cell_type": "code",
      "metadata": {
        "id": "yOJ9hA95FpWQ"
      },
      "source": [
        "def sigmoid(M: np.array) -> np.array:\n",
        "    \"\"\"Apply a sigmoid to the input array\"\"\"\n",
        "    # DONE\n",
        "    F_sigmoid=1/(1+np.exp(-M))\n",
        "    return F_sigmoid"
      ],
      "execution_count": 960,
      "outputs": []
    },
    {
      "cell_type": "code",
      "metadata": {
        "id": "5r98Gn2lFpWS"
      },
      "source": [
        "def d_sigmoid(M: np.array)-> np.array:\n",
        "    \"\"\"Compute the derivative of the sigmoid\"\"\" \n",
        "    # DONE\n",
        "    DF_sigmoid=(sigmoid(M)*(1-sigmoid(M)))\n",
        "    return DF_sigmoid"
      ],
      "execution_count": 961,
      "outputs": []
    },
    {
      "cell_type": "code",
      "metadata": {
        "id": "znWYmMSuFpWV"
      },
      "source": [
        "def softmax(X: np.array)-> np.array:\n",
        "    \"\"\"Apply a softmax to the input array\"\"\"\n",
        "    # DONE\n",
        "    X_exp=np.exp(X)\n",
        "    X_sum=np.sum(X_exp,axis=1).reshape(-1,1)\n",
        "    m_softmax=X_exp/X_sum\n",
        "    return m_softmax #y_pred"
      ],
      "execution_count": 962,
      "outputs": []
    },
    {
      "cell_type": "markdown",
      "metadata": {
        "id": "jUFRZgEEFpWX"
      },
      "source": [
        "## Feed forward NN\n",
        "\n",
        "Now that the data is prepared it's time to create a neural network to learn on this dataset.\n",
        "\n",
        "You can look back at the lecture slides and need to replace the None in the below function in order to have the building blocks of this first neural network. \n",
        "\n",
        "To do so we are now going to create the FFNN class. It will take list of integers to represent the network.\n",
        "\n",
        "One element in the list corresponds to the number of neurones in the layer.\n",
        "`config = [784, 3, 4, 10]` will be an acceptable config: \n",
        "- inputs are 1x784 vectors \n",
        "- the model output should be a vector of size 10 to classify between 10 classes.\n",
        "- in the middle the hidden layer are fully customizable\n",
        "\n",
        "You have to do some implementations and replace the None assignment (variable = None). Do not do it for the Layer object.\n",
        "\n",
        "Warning: None return type for some methods are not supposed to be affected"
      ]
    },
    {
      "cell_type": "code",
      "metadata": {
        "id": "pBTt0NyDFpWX"
      },
      "source": [
        "class Layer:\n",
        "    def __init__(self):\n",
        "        self.Z = None\n",
        "        self.W = None\n",
        "        self.D = None\n",
        "        self.F = None\n",
        "        self.activation = None"
      ],
      "execution_count": 963,
      "outputs": []
    },
    {
      "cell_type": "code",
      "metadata": {
        "id": "1ch-7imxFpWZ"
      },
      "source": [
        "class FFNN:\n",
        "    def __init__(self, config, minibatch_size=100, learning_rate=0.1):\n",
        "        self.layers = []\n",
        "        self.nlayers = len(config)\n",
        "        self.minibatch_size = minibatch_size\n",
        "        self.learning_rate = learning_rate\n",
        "        \n",
        "        input_data = Layer()\n",
        "        # DONE: initialize the Z matrix with the a matrix containing only zeros\n",
        "        # its shape should be (minibatch_size, config[0])\n",
        "        input_data.Z = np.zeros((minibatch_size, config[0]))\n",
        "        self.layers.append(input_data)\n",
        "\n",
        "        for i in range(1, len(config)):\n",
        "            nnodes = config[i]\n",
        "            layer  = Layer()\n",
        "            nlines_prev, ncols_prev = self.layers[i - 1].Z.shape\n",
        "            # DONE: initilize the weight matrix W in the layer with a random normal distribution\n",
        "            # its shape should be (ncols_prev, nnodes)\n",
        "            layer.W = np.random.randn(ncols_prev, nnodes)\n",
        "            # DONE: initilize the matrix Z in the layer with a matrix containing only zeros\n",
        "            # its shape should be (nlines_prev, nnodes)\n",
        "            layer.Z = np.zeros((nlines_prev, nnodes))\n",
        "            # DONE: use the sigmoid activation function\n",
        "            layer.activation = sigmoid\n",
        "            self.layers.append(layer)\n",
        "        # DONE: Your last layer activation should be a softmax\n",
        "        self.layers[-1].activation = softmax\n",
        "        \n",
        "    def one_step_forward(self, signal: np.array, cur_layer: Layer)-> np.array:\n",
        "        # Compute the F and Z matrix for the current layer and return Z\n",
        "        # DONE: Compute the dot product betzeen the signal and the current layer W matrix\n",
        "        S = np.dot(signal,cur_layer.W) \n",
        "        # DONE: Compute the F matrix of the current layer\n",
        "        cur_layer.F = d_sigmoid(S).T\n",
        "        # DONE: Compute the activation od the current layer\n",
        "        cur_layer.Z = cur_layer.activation(S)\n",
        "        return cur_layer.Z\n",
        "\n",
        "    def forward_pass(self, input_data: np.array)-> np.array:\n",
        "        # DONE: perform the whole forward pass using the on_step_forward function\n",
        "        self.layers[0].Z = input_data\n",
        "        for i in range(1,self.nlayers):\n",
        "        #for i in range(1,len(config)):\n",
        "            signal = self.layers[i - 1].Z\n",
        "            cur_layer = self.layers[i]\n",
        "            _ = self.one_step_forward(signal, cur_layer)\n",
        "        return self.layers[-1].Z\n",
        "\n",
        "    def one_step_backward(self, prev_layer: Layer, cur_layer: Layer)-> Layer:\n",
        "        # DONE: Compute the D matrix of the current layer using the previous layer and return the current layer\n",
        "        Di = cur_layer.F * np.dot(prev_layer.W, prev_layer.D)\n",
        "        cur_layer.D = Di\n",
        "        return cur_layer\n",
        "        \n",
        "    def backward_pass(self, D_out: np.array)-> None:\n",
        "        # DONE: Compute the D matrix for all the layers (excluding the first one which corresponds to the input itself)\n",
        "        # (you should only use self.layers[1:])\n",
        "        self.layers[-1].D = D_out.T\n",
        "        for i in range(self.nlayers-1,1,-1):\n",
        "            prev_layer = self.layers[i]\n",
        "            cur_layer  = self.layers[i-1]\n",
        "            _ = self.one_step_backward(prev_layer, cur_layer)\n",
        "\n",
        "    def update_weights(self, cur_layer: Layer, next_layer: Layer)-> Layer:\n",
        "        # DONE: Update the W matrix of the next_layer using the current_layer and the learning rate\n",
        "        # and return the next_layer\n",
        "        next_layer.W += -self.learning_rate * np.dot(next_layer.D, cur_layer.Z).T\n",
        "        return next_layer\n",
        "    \n",
        "    def update_all_weights(self)-> None:\n",
        "        # DONE: Update all W matrix using the update_weights function\n",
        "        for i in range(self.nlayers-1):\n",
        "            cur_layer = self.layers[i]\n",
        "            next_layer = self.layers[i+1]\n",
        "            _ = self.update_weights(cur_layer, next_layer)\n",
        "\n",
        "    def get_error(self, y_pred: np.array, y_batch: np.array)-> float:\n",
        "        # SHOULD BE DONE: return the accuracy on the predictions\n",
        "        # the accuracy should be in the [0.0, 1.0] range\n",
        "        label_pred = np.argmax(y_pred, axis=1)\n",
        "        label_true = np.argmax(y_batch, axis=1)\n",
        "        accuracy = (label_pred == label_true).sum() / y_pred.shape[0]\n",
        "        return accuracy\n",
        "    \n",
        "\n",
        "    def get_test_error(self, X: np.array, y: np.array)-> float:\n",
        "        # DONE: Compute the accuracy using the get_error function\n",
        "        # Use: np.argmax --> retourne l'index où la valeur est maximale\n",
        "        nbatch = X.shape[0]\n",
        "        error_sum = 0.0\n",
        "        for i in range(0, nbatch):\n",
        "            X_batch = X[i,:,:].reshape(self.minibatch_size, -1)\n",
        "            y_batch = y[i,:,:].reshape(self.minibatch_size, -1)           \n",
        "            # TODO: get y_pred using the forward pass\n",
        "            y_pred = self.forward_pass(X_batch)\n",
        "            error_sum += self.get_error(y_pred, y_batch)\n",
        "        return error_sum / nbatch\n",
        "\n",
        "        \n",
        "    def train(self, nepoch, X_train, y_train, X_test, y_test)-> float:\n",
        "        X_train = X_train.reshape(-1, self.minibatch_size, 784)\n",
        "        y_train = y_train.reshape(-1, self.minibatch_size, 10)\n",
        "\n",
        "        X_test = X_test.reshape(-1, self.minibatch_size, 784)\n",
        "        y_test = y_test.reshape(-1, self.minibatch_size, 10)\n",
        "        \n",
        "        # DONE: Get the number of batch based on X_train's shape\n",
        "        nbatch = X_train.shape[0]\n",
        "        error_test = 0.0 \n",
        "        for epoch in range(0, nepoch):\n",
        "            error_sum_train = 0.0\n",
        "            for i in range(0, nbatch):\n",
        "                X_batch = X_train[i,:, :]\n",
        "                y_batch = y_train[i,:, :]\n",
        "    \n",
        "                y_pred = self.forward_pass(X_batch)\n",
        "                self.backward_pass(y_pred - y_batch)\n",
        "                self.update_all_weights()\n",
        "                # ACCURACY ON TRAIN SET\n",
        "                error_sum_train += self.get_error(y_pred, y_batch)\n",
        "            # ACCURACY ON TEST SET\n",
        "            error_test = self.get_test_error(X_test, y_test)\n",
        "            print(f\"Training accuracy: {error_sum_train / nbatch:.3f}, Test accuracy: {error_test:.3f}\")\n",
        "        return error_test"
      ],
      "execution_count": 964,
      "outputs": []
    },
    {
      "cell_type": "markdown",
      "metadata": {
        "id": "O-kXRO62FpWb"
      },
      "source": [
        "## Training phase (12 pts)\n",
        "\n",
        "Now, it is time to train the model !!\n",
        "\n",
        "You can play with the different parameters (minibatch_size, nepoch, learning_rate and the number of hidden layers)\n",
        "\n",
        "It's on 12 points because there is a lot of functions to fill but also we want the training best training accuracy. \n",
        "\n",
        "To have all the point your neural network needs to have a Test accuracy > 92 % !! "
      ]
    },
    {
      "cell_type": "code",
      "metadata": {
        "id": "jDRQrNYFFpWb"
      },
      "source": [
        "minibatch_size = 10\n",
        "nepoch = 5\n",
        "learning_rate = 0.05\n",
        "\n",
        "ffnn = FFNN(config=[784, 500, 10], minibatch_size=minibatch_size, learning_rate=learning_rate)"
      ],
      "execution_count": 965,
      "outputs": []
    },
    {
      "cell_type": "code",
      "metadata": {
        "id": "ag2mnvtPFpWe",
        "outputId": "12086e37-91e8-4921-ceea-8dbaf3cdbf37",
        "colab": {
          "base_uri": "https://localhost:8080/"
        }
      },
      "source": [
        "assert X_train.shape[0] % minibatch_size == 0\n",
        "assert X_test.shape[0] % minibatch_size == 0\n",
        "\n",
        "X_train = normalize_data(X_train)\n",
        "X_test = normalize_data(X_test)\n",
        "\n",
        "y_train = target_to_one_hot(y_train.reshape(-1,1))\n",
        "y_test = target_to_one_hot(y_test.reshape(-1,1))\n",
        "\n",
        "err = ffnn.train(nepoch, X_train, y_train, X_test, y_test)"
      ],
      "execution_count": 966,
      "outputs": [
        {
          "output_type": "stream",
          "text": [
            "Training accuracy: 0.873, Test accuracy: 0.934\n",
            "Training accuracy: 0.938, Test accuracy: 0.937\n",
            "Training accuracy: 0.960, Test accuracy: 0.957\n",
            "Training accuracy: 0.971, Test accuracy: 0.961\n",
            "Training accuracy: 0.981, Test accuracy: 0.954\n"
          ],
          "name": "stdout"
        }
      ]
    },
    {
      "cell_type": "markdown",
      "metadata": {
        "id": "pRhreytAFpWf"
      },
      "source": [
        "## Error analysis (2 pts)\n",
        "\n",
        "Here we use a subset of the test data to try and find some miss classification.\n",
        "\n",
        "It will help us understand why the neural network failed sometimes to classify images. "
      ]
    },
    {
      "cell_type": "code",
      "metadata": {
        "id": "6PsLD8OmFpWg",
        "outputId": "9f2c1f00-f8d4-46b3-f37a-1bc9777dd3cb",
        "colab": {
          "base_uri": "https://localhost:8080/",
          "height": 281
        }
      },
      "source": [
        "nsample = 1000\n",
        "\n",
        "X_demo = X_test[:nsample,:]\n",
        "y_demo = ffnn.forward_pass(X_demo)\n",
        "y_true = y_test[:nsample,:]\n",
        "\n",
        "index_to_plot = 155 \n",
        "plot_one_image(X_demo, y_true, index_to_plot)\n",
        "\n",
        "# Compare to the prediction \n",
        "prediction = np.argmax(y_demo[index_to_plot,:])\n",
        "true_target = np.argmax(y_true[index_to_plot,:])\n",
        "\n",
        "# is it the same number ? yes."
      ],
      "execution_count": 967,
      "outputs": [
        {
          "output_type": "display_data",
          "data": {
            "image/png": "[encoded data removed]",
            "text/plain": [
              "<Figure size 432x288 with 1 Axes>"
            ]
          },
          "metadata": {
            "tags": [],
            "needs_background": "light"
          }
        }
      ]
    },
    {
      "cell_type": "code",
      "metadata": {
        "id": "YErobK10FpWi",
        "outputId": "08920cf1-2f7a-4286-a624-8d31b8f030ae",
        "colab": {
          "base_uri": "https://localhost:8080/"
        }
      },
      "source": [
        "# loop arround the demo test set and try to find a miss prediction\n",
        "pred_error = 0\n",
        "for i in range(0, nsample):   \n",
        "    prediction = np.argmax(ffnn.forward_pass(X_demo)[i,:]) # DONE\n",
        "    true_target = np.argmax(y_test[:nsample,:][i,:]) # DONE\n",
        "    if prediction != true_target:\n",
        "        pred_error += 1\n",
        "print(pred_error,\" errors of prediction\")\n",
        "         \n"
      ],
      "execution_count": 968,
      "outputs": [
        {
          "output_type": "stream",
          "text": [
            "46  errors of prediction\n"
          ],
          "name": "stdout"
        }
      ]
    },
    {
      "cell_type": "markdown",
      "metadata": {
        "id": "NPWR36tPFpWj"
      },
      "source": [
        "## Open analysis\n",
        "\n",
        "in the cell below please explain you choice for all the parameters of your configuration: \n",
        "\n",
        "- minibatch_size\n",
        "- nepoch\n",
        "- config\n",
        "- learning_rate\n",
        "\n",
        "Also explain how the neural network behave when changing them ? "
      ]
    },
    {
      "cell_type": "markdown",
      "metadata": {
        "id": "1XNXaNlFJvDK"
      },
      "source": [
        ""
      ]
    },
    {
      "cell_type": "markdown",
      "metadata": {
        "id": "zVuqsmjGFpWk"
      },
      "source": [
        "## Open analysis answer\n",
        "\n",
        "minibatch_size: \n",
        "- Avec un minibatch de taille 5, l'accuracy augmente lentement. \n",
        "- Contrairement à un minibatch de taille 10. Un petit minibatch rallonge donc le processus\n",
        "\n",
        "nepoch: nepoch a une influence sur la durée du processus en fonction de la complexité.\n",
        "- Avec nepoch = 10 et config=[784, 25,35, 10] on atteint plus rapidement les 90% d'accuracy\n",
        "- Avec nepoch = 5 il faut une config avec beaucoup plus de neurones pour obtenir des résultats similaires ou supérieurs \n",
        "  (et c'est beaucoup plus long)\n",
        "\n",
        "config: \n",
        "- Trop de couche provoque de l'overfitting et fausse donc l'accuracy\n",
        "- Pour un modèle \"simple\", peu de couche est préférable\n",
        "- Le nombre de neurones a une grande influence sur l'accuracy, plus il y en a, plus l'algo est précis \n",
        "  mais plus les calculs sont longs aussi\n",
        "\n",
        "Learning rate: \n",
        "- Un learning trop petit (0,001) fait évoluer le modèle trop lentement et on obtient donc une accuracy basse\n",
        "- Un learning trop grand (0,25) fait diverger la descente de gradient\n",
        "\n",
        "Mon choix: \n",
        "- minibatch_size = 10\n",
        "- nepoch = 5\n",
        "  Le minibatch de taille 10 et le nombre d'epoch de 5 permet de diminuer le temps de compute\n",
        "\n",
        "- config=[784,500,10]\n",
        "  Bien que le grand nombre de neurones augmente beaucoup la durée des calculs, \n",
        "  ce grand nombre nous permet d'obtenir une plus grande précision (Training accuracy: 0.981, Test accuracy: 0.954)\n",
        "\n",
        "- learning_rate = 0.05\n",
        "  Le learning rate est légèrement plus grand que celui par défaut car il ne diverge pas \n",
        "  et les pas sont suffisament grand pour se rapprocher rapidement du minimum"
      ]
    }
  ]
}